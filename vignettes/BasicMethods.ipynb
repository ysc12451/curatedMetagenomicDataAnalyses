{
 "cells": [
  {
   "cell_type": "code",
   "execution_count": 133,
   "metadata": {},
   "outputs": [],
   "source": [
    "import numpy as np\n",
    "import pandas as pd\n",
    "import scipy.sparse as sp\n",
    "import matplotlib.pyplot as pl\n",
    "\n",
    "import sklearn as sk\n",
    "import pandas as pd\n",
    "import numpy as np\n",
    "import pathlib as pl\n",
    "\n",
    "from sklearn.preprocessing import StandardScaler\n",
    "from sklearn.decomposition import PCA\n",
    "from sklearn.linear_model import LogisticRegression\n",
    "from sklearn.ensemble import RandomForestClassifier\n",
    "from sklearn.neighbors import KNeighborsClassifier\n",
    "from sklearn.model_selection import train_test_split\n",
    "from sklearn.model_selection import GridSearchCV\n",
    "from scipy.stats import pearsonr\n",
    "from sklearn.metrics import mean_squared_error as mse\n",
    "from sklearn.metrics import zero_one_loss, accuracy_score, precision_score, recall_score, f1_score, classification_report, confusion_matrix\n",
    "from collections import Counter\n",
    "\n",
    "import os\n",
    "import sys\n",
    "os.chdir(\"D:\\OneDrive\\OneDrive - UW-Madison\\Kris\\Code\\curatedMetagenomicDataAnalyses\\\\vignettes\")\n",
    "# os.chdir(\"C:\\OneDrive\\OneDrive - UW-Madison\\Kris\\Code\\curatedMetagenomicDataAnalyses\\\\vignettes\")\n",
    "import gc\n",
    "\n",
    "# visualizations\n",
    "import plotly.express as px\n",
    "import plotly.offline as pyo\n",
    "import plotly\n",
    "import plotly.graph_objs as go\n",
    "from plotly.subplots import make_subplots\n",
    "import seaborn as sns\n",
    "import matplotlib.pyplot as plt\n",
    "\n",
    "custom_colors = [\"#a8e6cf\",\"#dcedc1\",\"#ffd3b6\",\"#ffaaa5\",\"#ff8b94\"]\n",
    "palette = sns.set_palette(sns.color_palette(custom_colors))\n",
    "FP_CRC_META = os.path.join(\"crc_meta.csv\")\n",
    "FP_CRC_SEPARATE = os.path.join(\"crc_separate_taxon.csv\")\n",
    "FP_CRC_WHOLE = os.path.join(\"crc_whole_taxon.csv\")\n",
    "FP_CRC_MAT = os.path.join(\"crc_mat.csv\")"
   ]
  },
  {
   "cell_type": "code",
   "execution_count": 68,
   "metadata": {},
   "outputs": [],
   "source": [
    "crc_meta = pd.read_csv(FP_CRC_META)\n",
    "# crc_sepa = pd.read_csv(FP_CRC_SEPARATE)\n",
    "crc_whole = pd.read_csv(FP_CRC_WHOLE)\n",
    "crc_whole = crc_whole.fillna(0)\n",
    "# crc_data = crc_sepa.iloc[7:, 3:]\n",
    "# crc_data = crc_data.astype(float)\n",
    "\n",
    "crc_sepa.rename(columns={'Unnamed: 0': 'observations'}, inplace=True)\n",
    "study_names = np.unique(crc_whole.study_name)"
   ]
  },
  {
   "cell_type": "code",
   "execution_count": 73,
   "metadata": {},
   "outputs": [],
   "source": [
    "response_mask = crc_whole.iloc[:,2].isin([0, 'carcinoma_surgery_history'])\n",
    "\n",
    "# Apply the mask to the DataFrame to keep rows that don't match the categories\n",
    "crc_whole = crc_whole[~response_mask]\n",
    "\n",
    "y_mapping = {\n",
    "    \"control\": 0,\n",
    "    \"CRC\": 1,\n",
    "    \"adenoma\": 2\n",
    "}\n",
    "\n",
    "crc_whole.iloc[:,2] = [y_mapping[item] for item in crc_whole.iloc[:,2]]"
   ]
  },
  {
   "cell_type": "code",
   "execution_count": 74,
   "metadata": {},
   "outputs": [
    {
     "data": {
      "text/plain": [
       "Counter({'FengQ_2015': 154,\n",
       "         'GuptaA_2019': 60,\n",
       "         'HanniganGD_2017': 81,\n",
       "         'ThomasAM_2018a': 80,\n",
       "         'ThomasAM_2018b': 60,\n",
       "         'ThomasAM_2019_c': 80,\n",
       "         'VogtmannE_2016': 104,\n",
       "         'WirbelJ_2018': 125,\n",
       "         'YachidaS_2019': 576,\n",
       "         'YuJ_2015': 128,\n",
       "         'ZellerG_2014': 156})"
      ]
     },
     "execution_count": 74,
     "metadata": {},
     "output_type": "execute_result"
    }
   ],
   "source": [
    "# Number of observations per study\n",
    "Counter(crc_whole.iloc[:,1])"
   ]
  },
  {
   "cell_type": "code",
   "execution_count": 75,
   "metadata": {},
   "outputs": [
    {
     "data": {
      "text/plain": [
       "Counter({1: 701, 0: 694, 2: 209})"
      ]
     },
     "execution_count": 75,
     "metadata": {},
     "output_type": "execute_result"
    }
   ],
   "source": [
    "# Number of observations per study\n",
    "Counter(crc_whole.iloc[:,2])"
   ]
  },
  {
   "cell_type": "code",
   "execution_count": 5,
   "metadata": {},
   "outputs": [
    {
     "data": {
      "image/png": "[encoded data removed]",
      "text/plain": [
       "<Figure size 432x288 with 2 Axes>"
      ]
     },
     "metadata": {
      "needs_background": "light"
     },
     "output_type": "display_data"
    }
   ],
   "source": [
    "sns.heatmap(X, vmax=1000)\n",
    "\n",
    "# Display the heatmap\n",
    "plt.show()"
   ]
  },
  {
   "cell_type": "code",
   "execution_count": 76,
   "metadata": {},
   "outputs": [
    {
     "name": "stdout",
     "output_type": "stream",
     "text": [
      "['GuptaA_2019']\n",
      "['FengQ_2015', 'HanniganGD_2017', 'ThomasAM_2018a', 'ThomasAM_2018b', 'ThomasAM_2019_c', 'VogtmannE_2016', 'WirbelJ_2018', 'YachidaS_2019', 'YuJ_2015', 'ZellerG_2014']\n"
     ]
    }
   ],
   "source": [
    "study_test = [study_names[1]]\n",
    "study_train = [study for study in study_names if study not in study_test]\n",
    "print(study_test)\n",
    "print(study_train)"
   ]
  },
  {
   "cell_type": "code",
   "execution_count": 77,
   "metadata": {},
   "outputs": [],
   "source": [
    "data_train = crc_whole[crc_whole['study_name'].isin(study_train)]\n",
    "data_test = crc_whole[crc_whole['study_name'].isin(study_test)]"
   ]
  },
  {
   "cell_type": "code",
   "execution_count": 99,
   "metadata": {},
   "outputs": [],
   "source": [
    "X_train = data_train.iloc[:, 3:].values\n",
    "X_test = data_test.iloc[:, 3:].values\n",
    "# y_train = data_train.iloc[:, 2] == \"CRC\"\n",
    "# y_test = data_test.iloc[:, 2] == \"CRC\"\n",
    "y_train = data_train.iloc[:, 2]\n",
    "y_test = data_test.iloc[:, 2]"
   ]
  },
  {
   "cell_type": "code",
   "execution_count": 100,
   "metadata": {},
   "outputs": [
    {
     "name": "stdout",
     "output_type": "stream",
     "text": [
      "(1544, 935)\n",
      "(60, 935)\n",
      "(1544,)\n",
      "(60,)\n"
     ]
    }
   ],
   "source": [
    "print(X_train.shape)\n",
    "print(X_test.shape)\n",
    "print(y_train.shape)\n",
    "print(y_test.shape)"
   ]
  },
  {
   "cell_type": "code",
   "execution_count": 101,
   "metadata": {},
   "outputs": [],
   "source": [
    "# Run PCA\n",
    "p = 100\n",
    "\n",
    "X_train_sd = StandardScaler().fit_transform(X_train)\n",
    "pca_train = PCA(n_components=p)\n",
    "X_train_pca = pca_train.fit_transform(X_train_sd)"
   ]
  },
  {
   "cell_type": "code",
   "execution_count": 92,
   "metadata": {},
   "outputs": [
    {
     "data": {
      "text/plain": [
       "(60, 100)"
      ]
     },
     "execution_count": 92,
     "metadata": {},
     "output_type": "execute_result"
    }
   ],
   "source": [
    "X_test_sd.shape"
   ]
  },
  {
   "cell_type": "code",
   "execution_count": 112,
   "metadata": {},
   "outputs": [
    {
     "data": {
      "text/plain": [
       "Counter({1: 30, 0: 30})"
      ]
     },
     "execution_count": 112,
     "metadata": {},
     "output_type": "execute_result"
    }
   ],
   "source": [
    "Counter(y_test)"
   ]
  },
  {
   "cell_type": "code",
   "execution_count": 142,
   "metadata": {},
   "outputs": [],
   "source": [
    "# Logstic\n",
    "# model = LogisticRegression(multi_class='multinomial')\n",
    "# model = RandomForestClassifier()\n",
    "model = KNeighborsClassifier()\n",
    "model.fit(X_train_pca, y_train)\n",
    "\n",
    "X_test_sd = StandardScaler().fit_transform(X_test)\n",
    "X_test_pca = pca_train.transform(X_test_sd)\n",
    "y_pred = model.predict(X_test_pca)\n"
   ]
  },
  {
   "cell_type": "code",
   "execution_count": 139,
   "metadata": {},
   "outputs": [
    {
     "data": {
      "text/plain": [
       "array([1, 1, 1, 1, 0, 1, 0, 1, 1, 1, 1, 1, 1, 0, 0, 1, 0, 0, 0, 0, 0, 0,\n",
       "       0, 1, 1, 0, 0, 0, 0, 0, 0, 0, 1, 1, 0, 0, 0, 0, 0, 1, 0, 1, 0, 1,\n",
       "       0, 1, 1, 1, 1, 1, 0, 1, 1, 1, 1, 1, 1, 1, 1, 1], dtype=int64)"
      ]
     },
     "execution_count": 139,
     "metadata": {},
     "output_type": "execute_result"
    }
   ],
   "source": [
    "y_pred"
   ]
  },
  {
   "cell_type": "code",
   "execution_count": 130,
   "metadata": {},
   "outputs": [
    {
     "data": {
      "text/plain": [
       "array([1, 1, 1, 1, 1, 1, 1, 1, 1, 1, 1, 1, 1, 1, 1, 0, 0, 0, 0, 0, 0, 0,\n",
       "       0, 0, 0, 0, 0, 0, 0, 0, 0, 0, 0, 0, 0, 0, 0, 0, 0, 0, 0, 0, 0, 0,\n",
       "       0, 1, 1, 1, 1, 1, 1, 1, 1, 1, 1, 1, 1, 1, 1, 1], dtype=int64)"
      ]
     },
     "execution_count": 130,
     "metadata": {},
     "output_type": "execute_result"
    }
   ],
   "source": [
    "y_test.values"
   ]
  },
  {
   "cell_type": "code",
   "execution_count": 131,
   "metadata": {},
   "outputs": [
    {
     "name": "stdout",
     "output_type": "stream",
     "text": [
      "LogisticRegression Report:\n",
      "               precision    recall  f1-score   support\n",
      "\n",
      "           0       0.79      0.87      0.83        30\n",
      "           1       0.88      0.77      0.82        30\n",
      "           2       0.00      0.00      0.00         0\n",
      "\n",
      "    accuracy                           0.82        60\n",
      "   macro avg       0.56      0.54      0.55        60\n",
      "weighted avg       0.84      0.82      0.82        60\n",
      "\n"
     ]
    },
    {
     "name": "stderr",
     "output_type": "stream",
     "text": [
      "d:\\Anaconda\\Anaconda3\\lib\\site-packages\\sklearn\\metrics\\_classification.py:1469: UndefinedMetricWarning:\n",
      "\n",
      "Recall and F-score are ill-defined and being set to 0.0 in labels with no true samples. Use `zero_division` parameter to control this behavior.\n",
      "\n",
      "d:\\Anaconda\\Anaconda3\\lib\\site-packages\\sklearn\\metrics\\_classification.py:1469: UndefinedMetricWarning:\n",
      "\n",
      "Recall and F-score are ill-defined and being set to 0.0 in labels with no true samples. Use `zero_division` parameter to control this behavior.\n",
      "\n",
      "d:\\Anaconda\\Anaconda3\\lib\\site-packages\\sklearn\\metrics\\_classification.py:1469: UndefinedMetricWarning:\n",
      "\n",
      "Recall and F-score are ill-defined and being set to 0.0 in labels with no true samples. Use `zero_division` parameter to control this behavior.\n",
      "\n"
     ]
    }
   ],
   "source": [
    "class_report = classification_report(y_test, y_pred)\n",
    "print(\"LogisticRegression Report:\\n\", class_report)"
   ]
  },
  {
   "cell_type": "code",
   "execution_count": 144,
   "metadata": {},
   "outputs": [
    {
     "name": "stdout",
     "output_type": "stream",
     "text": [
      "        Predicted 0  Predicted 1  Predicted 2\n",
      "True 0           27            3            0\n",
      "True 1           11           16            3\n",
      "True 2            0            0            0\n"
     ]
    }
   ],
   "source": [
    "conf_matrix = confusion_matrix(y_test, y_pred)\n",
    "# df_conf_matrix = pd.DataFrame(conf_matrix, index=['True 0', 'True 1'], columns=['Predicted 0', 'Predicted 1'])\n",
    "df_conf_matrix = pd.DataFrame(conf_matrix, index=['True 0', 'True 1', 'True 2'], columns=['Predicted 0', 'Predicted 1', 'Predicted 2'])\n",
    "print(df_conf_matrix)"
   ]
  },
  {
   "cell_type": "markdown",
   "metadata": {},
   "source": [
    "## cFIT"
   ]
  },
  {
   "cell_type": "code",
   "execution_count": 148,
   "metadata": {},
   "outputs": [],
   "source": [
    "with open('cFIT_pred.txt', 'r') as file:\n",
    "    cFIT_pred = file.read().splitlines()\n",
    "with open('cFIT_test.txt', 'r') as file:\n",
    "    cFIT_test = file.read().splitlines()"
   ]
  },
  {
   "cell_type": "code",
   "execution_count": 151,
   "metadata": {},
   "outputs": [
    {
     "name": "stdout",
     "output_type": "stream",
     "text": [
      "cFIT Report:\n",
      "               precision    recall  f1-score   support\n",
      "\n",
      "         CRC       1.00      0.50      0.67        30\n",
      "     adenoma       0.00      0.00      0.00         0\n",
      "     control       0.65      0.87      0.74        30\n",
      "\n",
      "    accuracy                           0.68        60\n",
      "   macro avg       0.55      0.46      0.47        60\n",
      "weighted avg       0.82      0.68      0.70        60\n",
      "\n"
     ]
    },
    {
     "name": "stderr",
     "output_type": "stream",
     "text": [
      "d:\\Anaconda\\Anaconda3\\lib\\site-packages\\sklearn\\metrics\\_classification.py:1469: UndefinedMetricWarning:\n",
      "\n",
      "Recall and F-score are ill-defined and being set to 0.0 in labels with no true samples. Use `zero_division` parameter to control this behavior.\n",
      "\n",
      "d:\\Anaconda\\Anaconda3\\lib\\site-packages\\sklearn\\metrics\\_classification.py:1469: UndefinedMetricWarning:\n",
      "\n",
      "Recall and F-score are ill-defined and being set to 0.0 in labels with no true samples. Use `zero_division` parameter to control this behavior.\n",
      "\n",
      "d:\\Anaconda\\Anaconda3\\lib\\site-packages\\sklearn\\metrics\\_classification.py:1469: UndefinedMetricWarning:\n",
      "\n",
      "Recall and F-score are ill-defined and being set to 0.0 in labels with no true samples. Use `zero_division` parameter to control this behavior.\n",
      "\n"
     ]
    }
   ],
   "source": [
    "class_report = classification_report(cFIT_test, cFIT_pred)\n",
    "print(\"cFIT Report:\\n\", class_report)"
   ]
  },
  {
   "cell_type": "code",
   "execution_count": 153,
   "metadata": {},
   "outputs": [
    {
     "name": "stdout",
     "output_type": "stream",
     "text": [
      "         CRC  Adenoma  Control\n",
      "CRC       15        1       14\n",
      "Adenoma    0        0        0\n",
      "Control    0        4       26\n"
     ]
    }
   ],
   "source": [
    "conf_matrix = confusion_matrix(cFIT_test, cFIT_pred)\n",
    "# df_conf_matrix = pd.DataFrame(conf_matrix, index=['True 0', 'True 1'], columns=['Predicted 0', 'Predicted 1'])\n",
    "df_conf_matrix = pd.DataFrame(conf_matrix, index=['CRC', 'Adenoma', 'Control'], columns=['CRC', 'Adenoma', 'Control'])\n",
    "print(df_conf_matrix)"
   ]
  },
  {
   "cell_type": "code",
   "execution_count": 149,
   "metadata": {},
   "outputs": [
    {
     "data": {
      "text/plain": [
       "['CRC',\n",
       " 'CRC',\n",
       " 'CRC',\n",
       " 'CRC',\n",
       " 'CRC',\n",
       " 'CRC',\n",
       " 'CRC',\n",
       " 'CRC',\n",
       " 'CRC',\n",
       " 'CRC',\n",
       " 'CRC',\n",
       " 'CRC',\n",
       " 'CRC',\n",
       " 'CRC',\n",
       " 'CRC',\n",
       " 'control',\n",
       " 'control',\n",
       " 'control',\n",
       " 'control',\n",
       " 'control',\n",
       " 'control',\n",
       " 'control',\n",
       " 'control',\n",
       " 'control',\n",
       " 'control',\n",
       " 'control',\n",
       " 'control',\n",
       " 'control',\n",
       " 'control',\n",
       " 'control',\n",
       " 'control',\n",
       " 'control',\n",
       " 'control',\n",
       " 'control',\n",
       " 'control',\n",
       " 'control',\n",
       " 'control',\n",
       " 'control',\n",
       " 'control',\n",
       " 'control',\n",
       " 'control',\n",
       " 'control',\n",
       " 'control',\n",
       " 'control',\n",
       " 'control',\n",
       " 'CRC',\n",
       " 'CRC',\n",
       " 'CRC',\n",
       " 'CRC',\n",
       " 'CRC',\n",
       " 'CRC',\n",
       " 'CRC',\n",
       " 'CRC',\n",
       " 'CRC',\n",
       " 'CRC',\n",
       " 'CRC',\n",
       " 'CRC',\n",
       " 'CRC',\n",
       " 'CRC',\n",
       " 'CRC']"
      ]
     },
     "execution_count": 149,
     "metadata": {},
     "output_type": "execute_result"
    }
   ],
   "source": [
    "cFIT_test"
   ]
  }
 ],
 "metadata": {
  "kernelspec": {
   "display_name": "base",
   "language": "python",
   "name": "python3"
  },
  "language_info": {
   "codemirror_mode": {
    "name": "ipython",
    "version": 3
   },
   "file_extension": ".py",
   "mimetype": "text/x-python",
   "name": "python",
   "nbconvert_exporter": "python",
   "pygments_lexer": "ipython3",
   "version": "3.9.7"
  },
  "orig_nbformat": 4
 },
 "nbformat": 4,
 "nbformat_minor": 2
}
